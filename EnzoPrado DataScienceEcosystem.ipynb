{
 "cells": [
  {
   "cell_type": "markdown",
   "id": "0f0b79be",
   "metadata": {},
   "source": [
    "# Data Science Tools and Ecosystem"
   ]
  },
  {
   "cell_type": "markdown",
   "id": "cdb58d93",
   "metadata": {},
   "source": [
    "By Enzo Prado.\n",
    "\n",
    "In this notebook, Data Science Tools and Ecosystem are summarized."
   ]
  },
  {
   "cell_type": "markdown",
   "id": "f7450c9e",
   "metadata": {},
   "source": [
    "Some of the popular languages that Data Scientists use are:\n",
    "1. Python\n",
    "2. R\n",
    "3. SQL\n",
    "4. Julia\n",
    "5. Scala"
   ]
  },
  {
   "cell_type": "markdown",
   "id": "631d0d29",
   "metadata": {},
   "source": [
    "Some of the commonly used libraries used by Data Scientists include:\n",
    "1. TensorFlow\n",
    "2. NumPy\n",
    "3. Pandas\n",
    "4. Scikit-learn\n",
    "5. PyTorch"
   ]
  },
  {
   "cell_type": "markdown",
   "id": "6e5e4577",
   "metadata": {},
   "source": [
    "| Data Science Tools |\n",
    "|-------------------|\n",
    "| Jupyter Notebook |\n",
    "| RStudio |\n",
    "| VS Code |"
   ]
  },
  {
   "cell_type": "markdown",
   "id": "798b5154",
   "metadata": {},
   "source": [
    "## Arithmetic Expression Examples"
   ]
  },
  {
   "cell_type": "code",
   "execution_count": 1,
   "id": "d3ac6b41",
   "metadata": {},
   "outputs": [
    {
     "data": {
      "text/plain": [
       "17"
      ]
     },
     "execution_count": 1,
     "metadata": {},
     "output_type": "execute_result"
    }
   ],
   "source": [
    "# This is a simple arithmetic expression to multiply then add integers\n",
    "(3*4)+5"
   ]
  },
  {
   "cell_type": "code",
   "execution_count": 3,
   "id": "ad5216e1",
   "metadata": {},
   "outputs": [
    {
     "data": {
      "text/plain": [
       "3.3333333333333335"
      ]
     },
     "execution_count": 3,
     "metadata": {},
     "output_type": "execute_result"
    }
   ],
   "source": [
    "# This will convert 200 minutes to hours by dividing by 60\n",
    "200/60"
   ]
  },
  {
   "cell_type": "markdown",
   "id": "e89a3a9d",
   "metadata": {},
   "source": [
    "## Objectives:\n",
    "- List popular languages for Data Science\n",
    "- List commonly used libraries in Data Science\n",
    "- Create a table of Data Science tools\n",
    "- Demonstrate arithmetic expressions in Python"
   ]
  },
  {
   "cell_type": "markdown",
   "id": "338581e4",
   "metadata": {},
   "source": [
    "## Author\n",
    "Enzo"
   ]
  }
 ],
 "metadata": {
  "kernelspec": {
   "display_name": "Python 3 (ipykernel)",
   "language": "python",
   "name": "python3"
  },
  "language_info": {
   "codemirror_mode": {
    "name": "ipython",
    "version": 3
   },
   "file_extension": ".py",
   "mimetype": "text/x-python",
   "name": "python",
   "nbconvert_exporter": "python",
   "pygments_lexer": "ipython3",
   "version": "3.12.7"
  }
 },
 "nbformat": 4,
 "nbformat_minor": 5
}
